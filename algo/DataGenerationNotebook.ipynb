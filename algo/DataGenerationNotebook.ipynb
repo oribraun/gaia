{
 "cells": [
  {
   "cell_type": "code",
   "execution_count": 3,
   "id": "00222abf",
   "metadata": {},
   "outputs": [],
   "source": [
    "import openai\n",
    "import time\n",
    "# openai.api_key = 's__k-73ZF1jNfuykC7q3L1wL4T3BlbkFJRRPFp17Qlg9Y9eaFJ32___r'\n"
   ]
  },
  {
   "cell_type": "code",
   "execution_count": 4,
   "id": "89fdf1c5",
   "metadata": {},
   "outputs": [],
   "source": [
    "topic    = \"acquisition of company named XYZ\""
   ]
  },
  {
   "cell_type": "code",
   "execution_count": 10,
   "id": "dcad176a",
   "metadata": {},
   "outputs": [],
   "source": [
    "def parse_text(text):\n",
    "    sub_topics = text.strip().split(\"\\n\")\n",
    "    sub_topics_list = [sub_topic.strip().split(\".\", 1)[1].strip() for sub_topic in sub_topics if sub_topic]\n",
    "    return sub_topics_list\n",
    "\n",
    "def get_subtopics(topic):\n",
    "    additional_infos_prompt = f\"give me 5 sub-topics related to {topic} without explanations and be generic. do not mention company names.\"\n",
    "    print(additional_infos_prompt)\n",
    "    res_additional_prompt = openai.Completion.create(\n",
    "      engine=\"text-davinci-003\",\n",
    "      prompt=additional_infos_prompt,\n",
    "      max_tokens=2000,\n",
    "      temperature=0.7,\n",
    "      stop=None,\n",
    "    )\n",
    "    additions = parse_text(res_additional_prompt['choices'][0]['text'])\n",
    "#     print(additions)\n",
    "    return additions"
   ]
  },
  {
   "cell_type": "code",
   "execution_count": 11,
   "id": "4347fcf3",
   "metadata": {},
   "outputs": [
    {
     "name": "stdout",
     "output_type": "stream",
     "text": [
      "give me 5 sub-topics related to acquisition of company named XYZ without explanations and be generic. do not mention company names.\n",
      "['Mergers & Acquisitions', 'Due Diligence', 'Integration Planning', 'Financing Structures', 'Regulatory Requirements']\n"
     ]
    }
   ],
   "source": [
    "additions = [ x for x in get_subtopics(topic) if x != '']"
   ]
  },
  {
   "cell_type": "code",
   "execution_count": 12,
   "id": "60d29ec1",
   "metadata": {},
   "outputs": [
    {
     "data": {
      "text/plain": [
       "['Mergers & Acquisitions',\n",
       " 'Due Diligence',\n",
       " 'Integration Planning',\n",
       " 'Financing Structures',\n",
       " 'Regulatory Requirements']"
      ]
     },
     "execution_count": 12,
     "metadata": {},
     "output_type": "execute_result"
    }
   ],
   "source": [
    "additions"
   ]
  },
  {
   "cell_type": "code",
   "execution_count": 15,
   "id": "57d037d5",
   "metadata": {},
   "outputs": [
    {
     "data": {
      "text/plain": [
       "5"
      ]
     },
     "execution_count": 15,
     "metadata": {},
     "output_type": "execute_result"
    }
   ],
   "source": [
    "additions.__len__()"
   ]
  },
  {
   "cell_type": "code",
   "execution_count": null,
   "id": "623f93ba",
   "metadata": {},
   "outputs": [
    {
     "name": "stdout",
     "output_type": "stream",
     "text": [
      "write a sentence or a short paragraph about the Mergers & Acquisitions with regard to acquisition of company named XYZ. \n",
      "              assume the content is taken from an internal corporate email\n",
      "[\"\\n\\nXYZ has been a major player in the market and their acquisition would be an important step in our growth strategy. We are confident that this merger will bring us significant competitive advantages, both in terms of cost savings and operational efficiencies. This acquisition will also give us access to XYZ's customer base and technology, which will enable us to increase our market share and presence. We look forward to revealing more details about this exciting partnership in the coming weeks.\", '\\n\\nWe are pleased to announce that our company has successfully completed the acquisition of XYZ. This merger and acquisition will provide us with new opportunities for growth, as well as a stronger foothold in the industry. We look forward to leveraging the resources of both companies to further our mission of providing quality products and services to our customers.', '\\n\\nXYZ has been identified as a potential acquisition target for our company. The Mergers & Acquisitions department has been working diligently to evaluate the potential benefits and risks of this transaction over the past few weeks. With careful consideration to market trends, financial analysis and strategic fit, they have determined that acquiring XYZ would be an advantageous move for our company. We are now in the process of finalizing the terms of the acquisition.', \"\\n\\nXYZ has been identified as a potential target for acquisition and we are in the process of due diligence to evaluate its suitability. We have started our investigation into XYZ's financials, market position, competitive landscape and any other factors that could potentially impact our decision to acquire the company. We anticipate completing our analysis by the end of the month and will provide an update with our findings shortly thereafter.\", '\\n\\nAcquiring company XYZ is a great opportunity for our business to expand its reach and increase its market share. We believe that this acquisition will bring forth a lot of synergies, both in terms of technology, product development, and customer base. The merger would provide us with an edge in the competitive landscape, and create more value for our customers. We are confident that integrating our operations with those of XYZ will be mutually beneficial.', \"\\n\\nAs you may be aware, XYZ has recently become a major target for potential mergers and acquisitions. Our team is currently in negotiations with the company's board of directors and management in order to determine the best course of action for our organization moving forward. We are working diligently to ensure that any potential agreement is in the best interest of both parties and that we secure a favorable outcome for our shareholders. \", \"\\n\\nXYZ is an attractive acquisition target due to its strong market presence and efficient operations. Our team has studied the potential benefits of this mergers and acquisitions deal, including increased market share, reduced costs, and improved customer service. We believe that a successful integration of XYZ's operations into our own would bring substantial value to our company and improve our competitive positioning in the industry.\", \"\\n\\nXYZ's acquisition by ABC is a major milestone for our organization. This strategic move leverages the strengths of both organizations and will enable us to capitalize on new opportunities in the market, while also strengthening our existing portfolio. We anticipate that this merger and acquisition will bring about significant growth for our company and position us well for continued success going forward.\", \"\\n\\nMergers and Acquisitions team is pleased to announce the successful acquisition of XYZ. This acquisition is a significant milestone in our company's growth and development, and we are confident that with the addition of XYZ to our portfolio, we will be able to achieve our strategic objectives. We look forward to working closely with the XYZ team to explore new opportunities and maximize the value of this transaction.\", '\\n\\nWe are pleased to announce that our company has successfully acquired XYZ. This merger and acquisition will result in increased growth opportunities for both companies. We look forward to a successful partnership as we move forward together.']\n",
      "write a sentence or a short paragraph about the Due Diligence with regard to acquisition of company named XYZ. \n",
      "              assume the content is taken from an internal corporate email\n",
      "=======failed========\n",
      "The model is currently overloaded with other requests (timed out after generating some tokens) - please retry with smaller completion length or fewer completions (requested 1 prompts, 10 completions for each)\n"
     ]
    }
   ],
   "source": [
    "all_res = []\n",
    "add_ind = 0\n",
    "tries = 0\n",
    "while (add_ind < additions.__len__()) and tries<10:\n",
    "    tries += 1\n",
    "    addition = additions[add_ind]\n",
    "    source   = \"an internal corporate email\"\n",
    "    N_per_request = 10\n",
    "    prompt =  f\"\"\"write a sentence or a short paragraph about the {addition} with regard to {topic}. \n",
    "              assume the content is taken from {source}\"\"\"\n",
    "    print(prompt)\n",
    "    try:\n",
    "        res = openai.Completion.create(\n",
    "          engine=\"text-davinci-003\",\n",
    "          prompt=prompt,\n",
    "          max_tokens=2000,\n",
    "          temperature=0.7,\n",
    "          n=N_per_request,\n",
    "          presence_penalty=1.0,\n",
    "          stop=None,\n",
    "        )\n",
    "    except Exception as e:\n",
    "        print( \"=======failed========\")\n",
    "        print(e)\n",
    "        time.sleep(60)\n",
    "        continue\n",
    "        \n",
    "    add_ind += 1\n",
    "    print([x['text'] for x in res['choices']])\n",
    "    all_res.append([x['text'] for x in res['choices']])\n",
    "    time.sleep(1)\n",
    "    "
   ]
  },
  {
   "cell_type": "code",
   "execution_count": 17,
   "id": "dc56e421",
   "metadata": {},
   "outputs": [],
   "source": [
    "from openpyxl import Workbook\n",
    "\n",
    "import openpyxl\n",
    "book = openpyxl.load_workbook('data.xlsx')\n",
    "worksheet = book.active\n",
    "for addition_ind, addition_res in enumerate(all_res):\n",
    "    for text in addition_res:\n",
    "        row = [topic, additions[addition_ind], text]\n",
    "        worksheet.append(row)\n",
    "\n",
    "book.save(\"data.xlsx\")\n"
   ]
  },
  {
   "cell_type": "code",
   "execution_count": null,
   "id": "caa79917",
   "metadata": {},
   "outputs": [],
   "source": []
  }
 ],
 "metadata": {
  "kernelspec": {
   "display_name": "Python 3 (ipykernel)",
   "language": "python",
   "name": "python3"
  },
  "language_info": {
   "codemirror_mode": {
    "name": "ipython",
    "version": 3
   },
   "file_extension": ".py",
   "mimetype": "text/x-python",
   "name": "python",
   "nbconvert_exporter": "python",
   "pygments_lexer": "ipython3",
   "version": "3.9.13"
  }
 },
 "nbformat": 4,
 "nbformat_minor": 5
}
