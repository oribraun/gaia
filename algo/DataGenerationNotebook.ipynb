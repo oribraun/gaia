{
 "cells": [
  {
   "cell_type": "code",
   "execution_count": 1,
   "id": "00222abf",
   "metadata": {},
   "outputs": [],
   "source": [
    "import openai\n",
    "import time\n",
    "# openai.api_key = 's__k-73ZF1jNfuykC7q3L1wL4T3BlbkFJRRPFp17Qlg9Y9eaFJ32___r'\n"
   ]
  },
  {
   "cell_type": "code",
   "execution_count": 27,
   "id": "89fdf1c5",
   "metadata": {},
   "outputs": [],
   "source": [
    "topics = [\"acquisition of company named XYZ\",\n",
    "          'Employee Information',\n",
    "          'Trade Secrets',\n",
    "          'Customer sensitive information',\n",
    "          'Legal issues',\n",
    "          'Marketing and Sales statistics',\n",
    "          'Partnership Agreements',\n",
    "          'Research and Development New features',\n",
    "          'Corporate Structure Changes',\n",
    "          'Human Resource Policies',\n",
    "          'Executive Compensation',\n",
    "          'Negative Customer Feedback']\n",
    "text_types = ['an example query for chatgpt','a sentence','a paragraph','few words']"
   ]
  },
  {
   "cell_type": "code",
   "execution_count": 3,
   "id": "dcad176a",
   "metadata": {},
   "outputs": [],
   "source": [
    "def parse_text(text):\n",
    "    sub_topics = text.strip().split(\"\\n\")\n",
    "    sub_topics_list = [sub_topic.strip().split(\".\", 1)[1].strip() for sub_topic in sub_topics if sub_topic]\n",
    "    return sub_topics_list\n",
    "\n",
    "def get_subtopics(topic):\n",
    "    additional_infos_prompt = f\"give me 5 sub-topics related to {topic} without explanations and be generic. do not mention company names.\"\n",
    "    print(additional_infos_prompt)\n",
    "    res_additional_prompt = openai.Completion.create(\n",
    "      engine=\"text-davinci-003\",\n",
    "      prompt=additional_infos_prompt,\n",
    "      max_tokens=2000,\n",
    "      temperature=0.7,\n",
    "      stop=None,\n",
    "    )\n",
    "    additions = parse_text(res_additional_prompt['choices'][0]['text'])\n",
    "    print(additions)\n",
    "    return additions"
   ]
  },
  {
   "cell_type": "code",
   "execution_count": 33,
   "id": "fb5fb0a0",
   "metadata": {},
   "outputs": [
    {
     "data": {
      "text/plain": [
       "['Employee Information',\n",
       " 'Trade Secrets',\n",
       " 'Customer sensitive information',\n",
       " 'Legal issues',\n",
       " 'Marketing and Sales statistics',\n",
       " 'Partnership Agreements',\n",
       " 'Research and Development New features',\n",
       " 'Corporate Structure Changes',\n",
       " 'Human Resource Policies',\n",
       " 'Executive Compensation',\n",
       " 'Negative Customer Feedback']"
      ]
     },
     "execution_count": 33,
     "metadata": {},
     "output_type": "execute_result"
    }
   ],
   "source": [
    "topics[1:]"
   ]
  },
  {
   "cell_type": "code",
   "execution_count": null,
   "id": "623f93ba",
   "metadata": {},
   "outputs": [
    {
     "name": "stdout",
     "output_type": "stream",
     "text": [
      "give me 5 sub-topics related to Trade Secrets without explanations and be generic. do not mention company names.\n",
      "write an example query for chatgpt about the Trade Secret Protection with regard to Trade Secrets.\n",
      "['\\n\\nQ: How does Trade Secret Protection work with regard to Trade Secrets?', '\\n\\nQuery: What are the protections available for trade secrets under trade secret protection laws?', '\\n\\nQ: What protections are available for trade secrets?', '\\n\\nQuery: What are the protections for trade secrets in terms of trade secret protection?', '\\n\\nQ: What is the legal protection for trade secrets?']\n",
      "write a sentence about the Trade Secret Protection with regard to Trade Secrets.\n"
     ]
    }
   ],
   "source": [
    "all_res = []\n",
    "tries = 0\n",
    "context = []\n",
    "max_tries = topics.__len__()*additions.__len__()*text_types.__len__()*1.5\n",
    "for topic in topics[2:]:\n",
    "    additions = [ x for x in get_subtopics(topic) if x != '']\n",
    "    add_ind = 0\n",
    "    while add_ind < additions.__len__():\n",
    "        type_ind = 0\n",
    "        while type_ind < text_types.__len__():\n",
    "            tries += 1\n",
    "            if tries > max_tries:\n",
    "                break\n",
    "            addition = additions[add_ind]\n",
    "            text_type = text_types[type_ind]\n",
    "    #         source   = \"an internal corporate email\"\n",
    "            N_per_request = 5\n",
    "            prompt =  f\"\"\"write {text_type} about the {addition} with regard to {topic}.\"\"\"\n",
    "            print(prompt)\n",
    "            try:\n",
    "                res = openai.Completion.create(\n",
    "                  engine=\"text-davinci-003\",\n",
    "                  prompt=prompt,\n",
    "                  max_tokens=2000,\n",
    "                  temperature=0.7,\n",
    "                  n=N_per_request,\n",
    "                  presence_penalty=1.0,\n",
    "                  stop=None,\n",
    "                )\n",
    "            except Exception as e:\n",
    "                print( \"=======failed========\")\n",
    "                print(e)\n",
    "                time.sleep(60)\n",
    "                continue\n",
    "\n",
    "            type_ind += 1\n",
    "            print([x['text'] for x in res['choices']])\n",
    "            all_res.append([x['text'] for x in res['choices']])\n",
    "            context.append([topic,addition,text_type])\n",
    "            time.sleep(10)\n",
    "        add_ind += 1\n",
    "    "
   ]
  },
  {
   "cell_type": "code",
   "execution_count": null,
   "id": "dc56e421",
   "metadata": {},
   "outputs": [],
   "source": [
    "from openpyxl import Workbook\n",
    "\n",
    "import openpyxl\n",
    "book = openpyxl.load_workbook('data.xlsx')\n",
    "worksheet = book.active\n",
    "# for addition_ind, addition_res in enumerate(all_res):\n",
    "#     for text in addition_res:\n",
    "#         row = [topic, additions[addition_ind%4], text]\n",
    "#         worksheet.append(row)\n",
    "for ind, res in enumerate(all_res):\n",
    "    topic = context[ind][0]\n",
    "    addition = context[ind][1]\n",
    "    text_type = context[ind][2]\n",
    "    for text in res:\n",
    "        row = [topic, addition, text_type, text]\n",
    "        worksheet.append(row)\n",
    "\n",
    "\n",
    "book.save(\"data.xlsx\")\n"
   ]
  },
  {
   "cell_type": "code",
   "execution_count": null,
   "id": "caa79917",
   "metadata": {},
   "outputs": [],
   "source": []
  }
 ],
 "metadata": {
  "kernelspec": {
   "display_name": "Python 3 (ipykernel)",
   "language": "python",
   "name": "python3"
  },
  "language_info": {
   "codemirror_mode": {
    "name": "ipython",
    "version": 3
   },
   "file_extension": ".py",
   "mimetype": "text/x-python",
   "name": "python",
   "nbconvert_exporter": "python",
   "pygments_lexer": "ipython3",
   "version": "3.9.13"
  }
 },
 "nbformat": 4,
 "nbformat_minor": 5
}
