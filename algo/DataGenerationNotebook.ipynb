{
 "cells": [
  {
   "cell_type": "code",
   "execution_count": 1,
   "id": "00222abf",
   "metadata": {},
   "outputs": [],
   "source": [
    "import openai\n",
    "import time\n",
    "# openai.api_key = 's__k-73ZF1jNfuykC7q3L1wL4T3BlbkFJRRPFp17Qlg9Y9eaFJ32___r'\n"
   ]
  },
  {
   "cell_type": "code",
   "execution_count": 2,
   "id": "89fdf1c5",
   "metadata": {},
   "outputs": [],
   "source": [
    "topic    = \"acquisition of company named XYZ\""
   ]
  },
  {
   "cell_type": "code",
   "execution_count": 3,
   "id": "dcad176a",
   "metadata": {},
   "outputs": [],
   "source": [
    "def parse_text(text):\n",
    "    sub_topics = text.strip().split(\"\\n\")\n",
    "    sub_topics_list = [sub_topic.strip().split(\".\", 1)[1].strip() for sub_topic in sub_topics if sub_topic]\n",
    "    return sub_topics_list\n",
    "\n",
    "def get_subtopics(topic):\n",
    "    additional_infos_prompt = f\"give me 5 sub-topics related to {topic} without explanations and be generic\"\n",
    "    print(additional_infos_prompt)\n",
    "    res_additional_prompt = openai.Completion.create(\n",
    "      engine=\"text-davinci-003\",\n",
    "      prompt=additional_infos_prompt,\n",
    "      max_tokens=2000,\n",
    "      temperature=0.7,\n",
    "      stop=None,\n",
    "    )\n",
    "    additions = parse_text(res_additional_prompt['choices'][0]['text'])\n",
    "    print(additions)\n",
    "    return additions"
   ]
  },
  {
   "cell_type": "code",
   "execution_count": 4,
   "id": "4347fcf3",
   "metadata": {},
   "outputs": [
    {
     "name": "stdout",
     "output_type": "stream",
     "text": [
      "give me 5 sub-topics related to acquisition of company named XYZ without explanations and be generic\n",
      "['Acquisition Financing', 'Merger & Acquisition Strategies', 'Legal Considerations', 'Integration of Businesses', 'Value Creation']\n"
     ]
    }
   ],
   "source": [
    "additions = [ x for x in get_subtopics(topic) if x != '']"
   ]
  },
  {
   "cell_type": "code",
   "execution_count": null,
   "id": "3bbf2ca4",
   "metadata": {},
   "outputs": [],
   "source": [
    "#= \"legal terms and random purchase price\"\n",
    "# all_res = []\n",
    "# for addition in additions:\n",
    "#     source   = \"an internal corporate email\"\n",
    "#     N_per_request = 3\n",
    "#     prompt =  f\"\"\"write {N_per_request} versions for a paragraph about {topic}. \n",
    "#               focus about {addition}. \n",
    "#               assume the content is taken from {source}\n",
    "#               no paragraph numbering\"\"\"\n",
    "#     print(prompt)\n",
    "#     try:\n",
    "#         res = openai.Completion.create(\n",
    "#           engine=\"text-davinci-003\",\n",
    "#           prompt=prompt,\n",
    "#           max_tokens=2000,\n",
    "#           temperature=0.7,\n",
    "#           stop=None,\n",
    "#         )\n",
    "#     except Exception as e:\n",
    "#         print(e)\n",
    "        \n",
    "        \n",
    "#     print(res['choices'][0]['text'])\n",
    "#     all_res.append(res)\n",
    "#     time.sleep(5)\n",
    "    "
   ]
  },
  {
   "cell_type": "code",
   "execution_count": 5,
   "id": "60d29ec1",
   "metadata": {},
   "outputs": [
    {
     "data": {
      "text/plain": [
       "['Acquisition Financing',\n",
       " 'Merger & Acquisition Strategies',\n",
       " 'Legal Considerations',\n",
       " 'Integration of Businesses',\n",
       " 'Value Creation']"
      ]
     },
     "execution_count": 5,
     "metadata": {},
     "output_type": "execute_result"
    }
   ],
   "source": [
    "additions"
   ]
  },
  {
   "cell_type": "code",
   "execution_count": 6,
   "id": "623f93ba",
   "metadata": {},
   "outputs": [
    {
     "name": "stdout",
     "output_type": "stream",
     "text": [
      "write a short paragraph about the Acquisition Financing with regard to acquisition of company named XYZ. \n",
      "              assume the content is taken from an internal corporate email\n",
      "['\\n\\nWe are pleased to announce that we have completed the Acquisition Financing for the acquisition of XYZ. This financing was secured through a combination of equity and debt investments, giving us the funds needed to complete the acquisition. We would like to thank all of our investors and partners who made this possible. We look forward to the new opportunities that this acquisition will bring.', '\\n\\nThe Acquisition Financing for the purchase of XYZ is now complete. We have successfully secured additional capital to fund the purchase of the company. Our team has worked diligently to ensure that this financing was completed in a timely and cost-effective manner. With the acquisition of XYZ, we are now in a better position to expand our operations and increase our market reach.', '\\n\\nAcquisition Financing for the acquisition of XYZ is now complete. We have secured a loan from Bank ABC which will provide us with the necessary funds to complete the transaction and move forward with integration. The terms of the loan are favorable and we anticipate no issues in completing the acquisition. We will keep all stakeholders informed as the process progresses.', '\\n\\nAcquisition Financing for the acquisition of XYZ has been successfully completed. The new capital structure includes a combination of debt and equity, and will provide the necessary resources to fund the purchase of the company. The closing of the transaction is expected to take place in the near future. We are confident that this acquisition will bring significant benefits to our organization and our shareholders.', '\\n\\nAcquisition Financing for the acquisition of XYZ is now available. Our team has put together a comprehensive plan to ensure that the resources and capital required for the acquisition are available and secure. This includes negotiating loan terms, arranging debt and equity financing, and exploring other financial options to ensure that the acquisition is successful. Our team is confident in our ability to secure the necessary financing and will continue to monitor the financial situation as the acquisition progresses.']\n",
      "write a short paragraph about the Merger & Acquisition Strategies with regard to acquisition of company named XYZ. \n",
      "              assume the content is taken from an internal corporate email\n",
      "['\\n\\nThe acquisition of XYZ by our company is an important part of our Merger & Acquisition strategy. We have identified XYZ as a potential growth opportunity that will bring additional benefits to our company. The strategic advantages of this acquisition will include access to XYZ’s existing customer base, their established product lines, and their innovative technologies. We are confident that this acquisition will provide significant value to our company going forward.', '\\n\\nThe acquisition of company XYZ is an important step in our Merger & Acquisition Strategies. Our team has been carefully analyzing the financials of XYZ and ascertaining its potential in our portfolio. We have identified several synergy opportunities that can be realized by our combined efforts. In addition, there are numerous potential cost savings opportunities that we can explore in order to maximize value. Our team is confident that this strategic move will provide long-term benefits to our organization and help us expand our market presence.', \"\\n\\nThe acquisition of XYZ presents an opportunity to capitalize on the company's strong market position and expand our own portfolio of products and services. We should leverage our existing network and resources to ensure a successful merger & acquisition process. Our team should develop a comprehensive strategy, including due diligence, financial analysis and valuation, to identify potential risks and opportunities. Additionally, we should consider the long-term implications of the acquisition on our business objectives and focus on creating value for our shareholders.\", '\\n\\nThe Merger & Acquisition Strategies team is currently working on the acquisition of company XYZ. We are analyzing the financials and legal aspects of the deal to ensure that the terms of the acquisition are beneficial for both parties. Additionally, considering the size of the company, we are also conducting a thorough due diligence process to identify any potential risks. The team is confident that with a clear understanding of the deal and its implications, we will be able to close the acquisition soon.', '\\n\\nIn light of our recent decision to acquire company XYZ, we have outlined a comprehensive set of Merger & Acquisition Strategies that will be employed to ensure a successful transition. Our focus will be on developing a cohesive integration plan to ensure a smooth transition, while at the same time leveraging synergies to create value for our shareholders. Our team will be highly involved in the process, and will be responsible for all necessary due diligence and negotiations. We look forward to the successful completion of this acquisition.']\n",
      "write a short paragraph about the Legal Considerations with regard to acquisition of company named XYZ. \n",
      "              assume the content is taken from an internal corporate email\n",
      "['\\n\\nLegal considerations are an important part of the acquisition of XYZ. Our legal department is currently reviewing the contract documents, including the terms of the purchase agreement, to make sure that we are in compliance with all applicable laws and regulations. We are also researching any potential liabilities and risks that may arise from the acquisition. Once the legal due diligence is completed, we will be able to move forward with the acquisition in a way that protects our best interests.', '\\n\\nGiven that we are in the process of acquiring company XYZ, it is important to consider the legal implications that may arise from this transaction. It is necessary to ensure that all relevant due diligence is conducted and that all legal requirements are met. Furthermore, we should consult with legal counsel to ensure that all necessary documents and contracts are properly executed and that the transaction is compliant with all applicable laws.', '\\n\\nGiven that we are in the process of acquiring company XYZ, there are several legal considerations that must be taken into account. Firstly, we need to review the applicable laws, regulations and other legal requirements relating to the acquisition. Secondly, we must ensure that the terms of the acquisition agreement are consistent with applicable laws. Thirdly, we need to consider any potential liabilities that may result from the acquisition and make sure that these are adequately addressed in the agreement. Finally, we must conduct due diligence to ensure that the company we are acquiring is indeed viable and meets all legal requirements.', \"\\n\\nWhen considering the acquisition of XYZ, it is essential to take into account the legal considerations that may arise. This includes an assessment of the company's assets and liabilities, verifying the legality of any contracts XYZ has entered into, and ensuring that all necessary legal documents are in place and correctly filed. Additionally, we must also ensure that any new corporate structures and agreements comply with the applicable local laws and regulations. Finally, we must also ensure that the transaction is in accordance with the company's Articles of Association.\", '\\n\\nThe acquisition of company XYZ should be carefully assessed to ensure all legal considerations are taken into account. This includes researching any existing contracts, potential liabilities, and compliance with local, state, and federal regulations. It is also important to consider the legal implications of any new contracts that may be created as part of the acquisition. It is essential that these considerations are addressed prior to signing any documents or concluding the acquisition.']\n",
      "write a short paragraph about the Integration of Businesses with regard to acquisition of company named XYZ. \n",
      "              assume the content is taken from an internal corporate email\n"
     ]
    },
    {
     "name": "stdout",
     "output_type": "stream",
     "text": [
      "['\\n\\nWe are pleased to announce that XYZ has been successfully acquired by our company. This acquisition marks an important milestone in our business integration process, allowing us to expand our business operations in the XYZ market. XYZ will help our company strengthen our presence in the region and increase our market share. We look forward to leveraging the expertise of the XYZ team to create a more comprehensive and integrated business solution.', \"\\n\\nThe integration of Businesses with regard to the acquisition of company XYZ is progressing well. Our teams have been working diligently to ensure a smooth transition for both companies, and we anticipate that XYZ's employees and customers will be pleased with the results. We are confident that this acquisition will provide us with a significant competitive advantage in the market and serve as a strong foundation for our continued success.\", \"\\n\\nIntegrating the newly acquired company, XYZ, into our business will be a critical part of our growth strategy. We must ensure that XYZ's processes, systems, technology, and personnel are seamlessly integrated into our business operations in order to maximize our synergies and ensure that our customers receive the highest quality service. We should also look for ways to leverage XYZ's resources to create new opportunities and drive innovation throughout our organization.\", \"\\n\\nIntegrating businesses is essential for the future success of our organization, and the acquisition of XYZ is a great opportunity for us to do so. With this acquisition, we can bring together the expertise and resources of two companies, leveraging the strengths of both to create a stronger, more comprehensive organization. Additionally, this will create new opportunities to expand our current customer base and generate more revenue. Let's make sure to take full advantage of this chance to integrate businesses and move our organization forward.\", '\\n\\nThe integration of Businesses with regards to the acquisition of company XYZ is going smoothly. Our team has been working hard to ensure that all of the necessary steps are taken to complete the process. We are confident that the transition will be seamless and that the new business will be a great asset to our company. We appreciate everyone’s hard work and dedication in getting us to this point. Thank you.']\n",
      "write a short paragraph about the Value Creation with regard to acquisition of company named XYZ. \n",
      "              assume the content is taken from an internal corporate email\n",
      "[\"\\n\\nValue creation through the acquisition of XYZ is key to our company's success. By leveraging XYZ's resources and capabilities we can expand our market share, increase customer loyalty, and create innovative products and services. With XYZ's talented team and strong reputation in the industry, we can also improve our competitive position and gain access to new markets. Finally, the acquisition of XYZ will provide us with a platform to optimize and scale our operations, leading to increased efficiency and cost savings.\", \"\\n\\nThe acquisition of XYZ is a great opportunity for us to create value. By leveraging our resources and expertise, we can build on the strengths of XYZ and enable us to expand our product offerings and reach new markets. We will also be able to increase our customer base, improve customer satisfaction, and drive long-term shareholder value. The acquisition of XYZ will be beneficial to all stakeholders, and I'm confident that with the right strategy and execution, we can maximize our return on investment.\", \"\\n\\nThe acquisition of XYZ will create immense value for our company. XYZ has a strong portfolio of products and services that could be integrated into our own offerings. Additionally, XYZ's impressive customer base will provide us with many opportunities to expand our reach in the market. We anticipate that this acquisition will bring increased revenues, improved customer satisfaction and loyalty, and a more comprehensive suite of products and services.\", \"\\n\\nThe acquisition of XYZ is an exciting opportunity to create value for our shareholders. With XYZ's advanced technology and experienced personnel, we can look forward to a new era of growth and quality products. We are confident that this acquisition will open up many new markets and expand our customer base. The combination of our two companies will create economies of scale and allow us to leverage our resources for the benefit of both companies. This acquisition will be a major step forward for our company and we are excited to be part of this venture.\", \"\\n\\nThe acquisition of XYZ is an important milestone in our company's growth strategy. XYZ's capabilities and expertise will provide our company with a new level of value creation opportunities. We will be able to leverage XYZ's strong customer base, innovative products and services, and extensive network of suppliers to create new, profitable opportunities for our business. We are confident that this acquisition will be successful in creating long-term, sustainable value for our company.\"]\n"
     ]
    }
   ],
   "source": [
    "all_res = []\n",
    "for addition in additions:\n",
    "    source   = \"an internal corporate email\"\n",
    "    N_per_request = 5\n",
    "    prompt =  f\"\"\"write a short paragraph about the {addition} with regard to {topic}. \n",
    "              assume the content is taken from {source}\"\"\"\n",
    "    print(prompt)\n",
    "    try:\n",
    "        res = openai.Completion.create(\n",
    "          engine=\"text-davinci-003\",\n",
    "          prompt=prompt,\n",
    "          max_tokens=2000,\n",
    "          temperature=0.7,\n",
    "          n=N_per_request,\n",
    "          presence_penalty=0.2,\n",
    "          stop=None,\n",
    "        )\n",
    "    except Exception as e:\n",
    "        print(e)\n",
    "        \n",
    "        \n",
    "    print([x['text'] for x in res['choices']])\n",
    "    all_res.append([x['text'] for x in res['choices']])\n",
    "    time.sleep(1)\n",
    "    "
   ]
  },
  {
   "cell_type": "code",
   "execution_count": 7,
   "id": "dc56e421",
   "metadata": {},
   "outputs": [],
   "source": [
    "import xlsxwriter\n",
    " \n",
    "# Workbook() takes one, non-optional, argument\n",
    "# which is the filename that we want to create.\n",
    "workbook = xlsxwriter.Workbook('data.xlsx')\n",
    " \n",
    "# The workbook object is then used to add new\n",
    "# worksheet via the add_worksheet() method.\n",
    "worksheet = workbook.add_worksheet()\n",
    " \n",
    "# Use the worksheet object to write\n",
    "row = 0\n",
    "for addition_ind, addition_res in enumerate(all_res):\n",
    "    for text in addition_res:\n",
    "        worksheet.write(row,0, topic)\n",
    "        worksheet.write(row,1, additions[addition_ind])\n",
    "        worksheet.write(row,2, text)\n",
    "        row+=1\n",
    " \n",
    "# Finally, close the Excel file\n",
    "# via the close() method.\n",
    "workbook.close()"
   ]
  },
  {
   "cell_type": "code",
   "execution_count": null,
   "id": "caa79917",
   "metadata": {},
   "outputs": [],
   "source": []
  }
 ],
 "metadata": {
  "kernelspec": {
   "display_name": "Python 3 (ipykernel)",
   "language": "python",
   "name": "python3"
  },
  "language_info": {
   "codemirror_mode": {
    "name": "ipython",
    "version": 3
   },
   "file_extension": ".py",
   "mimetype": "text/x-python",
   "name": "python",
   "nbconvert_exporter": "python",
   "pygments_lexer": "ipython3",
   "version": "3.9.13"
  }
 },
 "nbformat": 4,
 "nbformat_minor": 5
}
